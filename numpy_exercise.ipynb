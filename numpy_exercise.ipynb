{
 "cells": [
  {
   "cell_type": "markdown",
   "id": "99f1a070",
   "metadata": {},
   "source": [
    "Below two numpy arrays are given with following columns. \n",
    "\n",
    "* Employee Details (1) Employee ID (2) Department (3) Salary\n",
    "* Performance Metrics (1) Employee ID (2) Performance Score (out of 100) (3) Number of Projects Completed\n",
    "\n",
    "Using these two arrays you need to complete set of tasks which are given in the notebook cells (along with hints)"
   ]
  },
  {
   "cell_type": "code",
   "execution_count": 2,
   "id": "ec997f5a",
   "metadata": {},
   "outputs": [],
   "source": [
    "import numpy as np\n",
    "\n",
    "# Employee Details (1) Employee ID (2) Department (3) Salary (4) Name\n",
    "employee_details = np.array([\n",
    "    [201, 'Marketing', 58000, 'Alicia Fernandez'],  \n",
    "    [202, 'Finance', 61000, 'Robert Chen'],    \n",
    "    [203, 'IT', 75000, 'Kiran Patel'],        \n",
    "    [204, 'Marketing', 63000, 'Daniel Lee'],    \n",
    "    [205, 'IT', 70000, 'Sophia Gomez'],      \n",
    "    [206, 'Finance', 56000, 'Anika Sharma'],           \n",
    "    [207, 'IT', 73000, 'James Robinson'],    \n",
    "    [208, 'Marketing', 62000, 'Olivia Martinez'], \n",
    "    [209, 'Finance', 58000, 'William Zhang']          \n",
    "])\n",
    "\n",
    "# Performance Metrics (1) Employee ID (2) Performance Score (out of 100) (3) Number of Projects Completed\n",
    "performance_metrics = np.array([\n",
    "    [201, 86, 6],\n",
    "    [202, 75, 4],\n",
    "    [203, 94, 8],\n",
    "    [204, 89, 5],\n",
    "    [205, 80, 4],\n",
    "    [206, 82, 6],\n",
    "    [207, 90, 9],\n",
    "    [208, 76, 3],\n",
    "    [209, 84, 5]\n",
    "])\n"
   ]
  },
  {
   "cell_type": "markdown",
   "id": "d2a4d20d",
   "metadata": {},
   "source": [
    "### Task 1: Merge above two numpy arrays using np.hstack"
   ]
  },
  {
   "cell_type": "code",
   "execution_count": 3,
   "id": "6f15bb12",
   "metadata": {},
   "outputs": [
    {
     "data": {
      "text/plain": [
       "array([['201', 'Marketing', '58000', 'Alicia Fernandez', '201', '86',\n",
       "        '6'],\n",
       "       ['202', 'Finance', '61000', 'Robert Chen', '202', '75', '4'],\n",
       "       ['203', 'IT', '75000', 'Kiran Patel', '203', '94', '8'],\n",
       "       ['204', 'Marketing', '63000', 'Daniel Lee', '204', '89', '5'],\n",
       "       ['205', 'IT', '70000', 'Sophia Gomez', '205', '80', '4'],\n",
       "       ['206', 'Finance', '56000', 'Anika Sharma', '206', '82', '6'],\n",
       "       ['207', 'IT', '73000', 'James Robinson', '207', '90', '9'],\n",
       "       ['208', 'Marketing', '62000', 'Olivia Martinez', '208', '76', '3'],\n",
       "       ['209', 'Finance', '58000', 'William Zhang', '209', '84', '5']],\n",
       "      dtype='<U21')"
      ]
     },
     "execution_count": 3,
     "metadata": {},
     "output_type": "execute_result"
    }
   ],
   "source": [
    "merged_details = np.hstack((employee_details, performance_metrics))\n",
    "merged_details"
   ]
  },
  {
   "cell_type": "markdown",
   "id": "f6a93493",
   "metadata": {},
   "source": [
    "### Task 2: Print All the Salaries"
   ]
  },
  {
   "cell_type": "code",
   "execution_count": 4,
   "id": "6465fc6f",
   "metadata": {
    "scrolled": false
   },
   "outputs": [
    {
     "data": {
      "text/plain": [
       "array(['58000', '61000', '75000', '63000', '70000', '56000', '73000',\n",
       "       '62000', '58000'], dtype='<U21')"
      ]
     },
     "execution_count": 4,
     "metadata": {},
     "output_type": "execute_result"
    }
   ],
   "source": [
    "employee_details[:, 2]"
   ]
  },
  {
   "cell_type": "markdown",
   "id": "18313d6c",
   "metadata": {},
   "source": [
    "### Task 3:  Print All the Salaries in Ascending Order"
   ]
  },
  {
   "cell_type": "code",
   "execution_count": 5,
   "id": "388a42b8",
   "metadata": {
    "scrolled": true
   },
   "outputs": [
    {
     "data": {
      "text/plain": [
       "array(['56000', '58000', '58000', '61000', '62000', '63000', '70000',\n",
       "       '73000', '75000'], dtype='<U21')"
      ]
     },
     "execution_count": 5,
     "metadata": {},
     "output_type": "execute_result"
    }
   ],
   "source": [
    "np.sort(employee_details[:, 2])"
   ]
  },
  {
   "cell_type": "markdown",
   "id": "f8167f59",
   "metadata": {},
   "source": [
    "### Task 4:  Iterate through entire array and print only employee id and name"
   ]
  },
  {
   "cell_type": "code",
   "execution_count": 9,
   "id": "504c7fba",
   "metadata": {
    "scrolled": false
   },
   "outputs": [
    {
     "data": {
      "text/plain": [
       "array([['201', 'Alicia Fernandez'],\n",
       "       ['202', 'Robert Chen'],\n",
       "       ['203', 'Kiran Patel'],\n",
       "       ['204', 'Daniel Lee'],\n",
       "       ['205', 'Sophia Gomez'],\n",
       "       ['206', 'Anika Sharma'],\n",
       "       ['207', 'James Robinson'],\n",
       "       ['208', 'Olivia Martinez'],\n",
       "       ['209', 'William Zhang']], dtype='<U21')"
      ]
     },
     "execution_count": 9,
     "metadata": {},
     "output_type": "execute_result"
    }
   ],
   "source": [
    "employee_details[:, [0,3]]"
   ]
  },
  {
   "cell_type": "markdown",
   "id": "586b7e31",
   "metadata": {},
   "source": [
    "### Task 5: Print performance score of all the employees"
   ]
  },
  {
   "cell_type": "code",
   "execution_count": 11,
   "id": "1584d882",
   "metadata": {},
   "outputs": [
    {
     "data": {
      "text/plain": [
       "array([['Alicia Fernandez', '86'],\n",
       "       ['Robert Chen', '75'],\n",
       "       ['Kiran Patel', '94'],\n",
       "       ['Daniel Lee', '89'],\n",
       "       ['Sophia Gomez', '80'],\n",
       "       ['Anika Sharma', '82'],\n",
       "       ['James Robinson', '90'],\n",
       "       ['Olivia Martinez', '76'],\n",
       "       ['William Zhang', '84']], dtype='<U21')"
      ]
     },
     "execution_count": 11,
     "metadata": {},
     "output_type": "execute_result"
    }
   ],
   "source": [
    "merged_details[:, [3, 5]]"
   ]
  },
  {
   "cell_type": "markdown",
   "id": "3d9a92ef",
   "metadata": {},
   "source": [
    "### Task 6: Convert these scores to float type by using astype(float) function"
   ]
  },
  {
   "cell_type": "code",
   "execution_count": 14,
   "id": "050ee1ae",
   "metadata": {},
   "outputs": [
    {
     "data": {
      "text/plain": [
       "array([86., 75., 94., 89., 80., 82., 90., 76., 84.])"
      ]
     },
     "execution_count": 14,
     "metadata": {},
     "output_type": "execute_result"
    }
   ],
   "source": [
    "performance_metrics[:, 1].astype(float)"
   ]
  },
  {
   "cell_type": "markdown",
   "id": "d16afb33",
   "metadata": {},
   "source": [
    "### Task 7:  Now print the average performance score of all the employees"
   ]
  },
  {
   "cell_type": "code",
   "execution_count": 17,
   "id": "94086c24",
   "metadata": {},
   "outputs": [
    {
     "data": {
      "text/plain": [
       "np.float64(84.0)"
      ]
     },
     "execution_count": 17,
     "metadata": {},
     "output_type": "execute_result"
    }
   ],
   "source": [
    "np.average(performance_metrics[:, 1].astype(float))"
   ]
  },
  {
   "cell_type": "markdown",
   "id": "86902984",
   "metadata": {},
   "source": [
    "### Task 8:  Print all the unique departments. You can use np.unique function for this"
   ]
  },
  {
   "cell_type": "code",
   "execution_count": 22,
   "id": "b95ca0ef",
   "metadata": {},
   "outputs": [
    {
     "name": "stdout",
     "output_type": "stream",
     "text": [
      "all departments: ['Marketing' 'Finance' 'IT' 'Marketing' 'IT' 'Finance' 'IT' 'Marketing'\n",
      " 'Finance']\n"
     ]
    }
   ],
   "source": [
    "# first print departments from all the records\n",
    "# write code here\n",
    "print(f\"all departments: {employee_details[:, 1]}\")"
   ]
  },
  {
   "cell_type": "code",
   "execution_count": 23,
   "id": "8b567172",
   "metadata": {},
   "outputs": [
    {
     "name": "stdout",
     "output_type": "stream",
     "text": [
      "unique departments: ['Finance' 'IT' 'Marketing']\n"
     ]
    }
   ],
   "source": [
    "# now print unique departments\n",
    "# write code here\n",
    "print(f\"unique departments: {np.unique(employee_details[:, 1])}\")"
   ]
  },
  {
   "cell_type": "markdown",
   "id": "5707cbae",
   "metadata": {},
   "source": [
    "### Task 9: Print average salary in HR department"
   ]
  },
  {
   "cell_type": "code",
   "execution_count": 1,
   "id": "2638deb2",
   "metadata": {},
   "outputs": [],
   "source": [
    "# First print all the records in HR department\n",
    "\n",
    "# write code here"
   ]
  },
  {
   "cell_type": "code",
   "execution_count": 3,
   "id": "39ea4122",
   "metadata": {},
   "outputs": [],
   "source": [
    "# Now from these records only print  the salary column. Convert that to float using astype(float) function\n",
    "\n",
    "# write code here"
   ]
  },
  {
   "cell_type": "code",
   "execution_count": 4,
   "id": "5c836bbb",
   "metadata": {},
   "outputs": [],
   "source": [
    "# Take an average of this column using np.mean() function\n",
    "\n",
    "# write code here"
   ]
  }
 ],
 "metadata": {
  "kernelspec": {
   "display_name": "env",
   "language": "python",
   "name": "python3"
  },
  "language_info": {
   "codemirror_mode": {
    "name": "ipython",
    "version": 3
   },
   "file_extension": ".py",
   "mimetype": "text/x-python",
   "name": "python",
   "nbconvert_exporter": "python",
   "pygments_lexer": "ipython3",
   "version": "3.13.2"
  }
 },
 "nbformat": 4,
 "nbformat_minor": 5
}
